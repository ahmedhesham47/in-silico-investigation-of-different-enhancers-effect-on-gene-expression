{
 "cells": [
  {
   "cell_type": "code",
   "execution_count": 1,
   "id": "5d791275-b89e-4eeb-b62f-f274c98b6fcb",
   "metadata": {},
   "outputs": [],
   "source": [
    "import numpy as np\n",
    "from os import listdir\n",
    "from os.path import join\n",
    "from itertools import compress\n",
    "import pandas as pd\n",
    "from collections import Counter"
   ]
  },
  {
   "cell_type": "code",
   "execution_count": 2,
   "id": "f26d20b6-8be8-40b4-bb27-3b64db83f0b9",
   "metadata": {},
   "outputs": [],
   "source": [
    "def readin_fastq(core_path,filename):\n",
    "    seqsraw = pd.read_csv(join(core_path,filename),sep=\"\\t\",header=None)  # txt files are tab-separated that is why we say that the seperator is \"tab\" represented by \"\\t\" (sep = \"\\t\")\n",
    "    seqs = seqsraw.iloc[range(1,seqsraw.shape[0],4),:] # the range function specifies the number of lines in each file and that onle every 4th line should be read -> fastq files have 4 lines per read, one with seqeunce and remaining 3 quality indicators\n",
    "    \n",
    "    return(seqs)"
   ]
  },
  {
   "cell_type": "code",
   "execution_count": 3,
   "id": "88a3e7cc-b9d5-45df-9fd1-3ecac7a52816",
   "metadata": {},
   "outputs": [],
   "source": [
    "data_path = '/project2/kribelba_1515/data/EXTRA_seq/2024_data/endoMPRA_lib5p4'"
   ]
  },
  {
   "cell_type": "code",
   "execution_count": 5,
   "id": "d826e181-f395-4176-b311-f68cc4656958",
   "metadata": {},
   "outputs": [
    {
     "data": {
      "text/plain": [
       "['gDNA_rep1_19_8_7_5p4_minP_MPRA4p75_S3_R1_001.fastq.gz',\n",
       " 'gDNA_rep2_19_8_7_5p4_minP_MPRA4p75_S4_R1_001.fastq.gz',\n",
       " 'gDNA_rep3_19_8_7_5p4_minP_MPRA4p75_S7_R1_001.fastq.gz',\n",
       " 'gDNA_rep4_19_8_7_5p4_minP_MPRA4p75_S8_R1_001.fastq.gz',\n",
       " 'mRNA_rep1_19_8_7_5p4_minP_MPRA4p75_S5_R1_001.fastq.gz',\n",
       " 'mRNA_rep2_19_8_7_5p4_minP_MPRA4p75_S6_R1_001.fastq.gz',\n",
       " 'mRNA_rep3_19_8_7_5p4_minP_MPRA4p75_S9_R1_001.fastq.gz',\n",
       " 'mRNA_rep4_19_8_7_5p4_minP_MPRA4p75_S10_R1_001.fastq.gz',\n",
       " 'mapping_r2_to_BC_5p4_plDNA_lib_total_BCcount_55bp_from_R2end_ofhublib4p75tab_unique_BC_read_mappings_only_2023_09_07.csv',\n",
       " 'mapping_r2_to_BC_5p4_plDNA_lib_total_BCcount_55bp_from_R2end_ofhublib4p75tab_unique_BC_read_mappings_only_plus_inferred_TFsyntax_2025_04_04.csv']"
      ]
     },
     "execution_count": 5,
     "metadata": {},
     "output_type": "execute_result"
    }
   ],
   "source": [
    "files = listdir(data_path)\n",
    "files"
   ]
  },
  {
   "cell_type": "code",
   "execution_count": 6,
   "id": "cc407b1c-7eab-4431-98df-05e8a5d1ca77",
   "metadata": {},
   "outputs": [
    {
     "name": "stdout",
     "output_type": "stream",
     "text": [
      "gDNA Files: ['gDNA_rep1_19_8_7_5p4_minP_MPRA4p75_S3_R1_001.fastq.gz', 'gDNA_rep2_19_8_7_5p4_minP_MPRA4p75_S4_R1_001.fastq.gz', 'gDNA_rep3_19_8_7_5p4_minP_MPRA4p75_S7_R1_001.fastq.gz', 'gDNA_rep4_19_8_7_5p4_minP_MPRA4p75_S8_R1_001.fastq.gz']\n",
      "mRNA Files: ['mRNA_rep1_19_8_7_5p4_minP_MPRA4p75_S5_R1_001.fastq.gz', 'mRNA_rep2_19_8_7_5p4_minP_MPRA4p75_S6_R1_001.fastq.gz', 'mRNA_rep3_19_8_7_5p4_minP_MPRA4p75_S9_R1_001.fastq.gz', 'mRNA_rep4_19_8_7_5p4_minP_MPRA4p75_S10_R1_001.fastq.gz']\n"
     ]
    }
   ],
   "source": [
    "# Filter for gDNA and mRNA separately\n",
    "files_gDNA = list(compress(files, [\"gDNA\" in i for i in files]))\n",
    "files_mRNA = list(compress(files, [\"mRNA\" in i for i in files]))\n",
    "\n",
    "print(\"gDNA Files:\", files_gDNA)\n",
    "print(\"mRNA Files:\", files_mRNA)"
   ]
  },
  {
   "cell_type": "code",
   "execution_count": 7,
   "id": "761558de-d114-48a5-8652-213d0059ccb9",
   "metadata": {},
   "outputs": [
    {
     "name": "stdout",
     "output_type": "stream",
     "text": [
      "Reading gDNA file: gDNA_rep1_19_8_7_5p4_minP_MPRA4p75_S3_R1_001.fastq.gz ...\n",
      "Finished reading gDNA_rep1_19_8_7_5p4_minP_MPRA4p75_S3_R1_001.fastq.gz ✅\n",
      "Reading gDNA file: gDNA_rep2_19_8_7_5p4_minP_MPRA4p75_S4_R1_001.fastq.gz ...\n",
      "Finished reading gDNA_rep2_19_8_7_5p4_minP_MPRA4p75_S4_R1_001.fastq.gz ✅\n",
      "Reading gDNA file: gDNA_rep3_19_8_7_5p4_minP_MPRA4p75_S7_R1_001.fastq.gz ...\n",
      "Finished reading gDNA_rep3_19_8_7_5p4_minP_MPRA4p75_S7_R1_001.fastq.gz ✅\n",
      "Reading gDNA file: gDNA_rep4_19_8_7_5p4_minP_MPRA4p75_S8_R1_001.fastq.gz ...\n",
      "Finished reading gDNA_rep4_19_8_7_5p4_minP_MPRA4p75_S8_R1_001.fastq.gz ✅\n"
     ]
    }
   ],
   "source": [
    "gDNA_sequences = []\n",
    "for file in files_gDNA:\n",
    "    print(f\"Reading gDNA file: {file} ...\")\n",
    "    gDNA_sequences.append(readin_fastq(data_path, file))\n",
    "    print(f\"Finished reading {file} ✅\")"
   ]
  },
  {
   "cell_type": "code",
   "execution_count": 8,
   "id": "489c06bf-c748-42a8-b02f-103c2d4658f9",
   "metadata": {},
   "outputs": [
    {
     "data": {
      "text/plain": [
       "[                                                          0\n",
       " 1         CTCAGNATGACGGACAGACCTAGTCTGATTCCCATATGGAAGATCC...\n",
       " 5         CTCAGNATGACGGACAGACCTCCGTTTTCCGTCATATGGAAGATCC...\n",
       " 9         CTCAGNATGACGGACAGACCTTGCCGTCGTAGCATATGGAAGATCC...\n",
       " 13        CTCAGNATGACGGACAGACCTGCTAAACCATGCATATGGAAGATCC...\n",
       " 17        CTCAGNATGACGGACAGACCTTCGCACCATATCATATGGAAGATCC...\n",
       " ...                                                     ...\n",
       " 15112825  CTCAGCATGACGGACAGACCGTAGTCGCTCAGCATATGGAAGATCC...\n",
       " 15112829  CTCAGCATGACGGACAGACCCTATAAGCGTGCCATATGGAAGATCC...\n",
       " 15112833  CTCAGCATGACGGACAGACCTTACGTAAAGTTCATATGGAAGATCC...\n",
       " 15112837  CTCAGCATGACGGACAGACCGGATTGTCCTGCCATATGGAAGATCC...\n",
       " 15112841  CTCAGCATGACGGACAGACCGGGGAGATACGTCATATGGAAGATCC...\n",
       " \n",
       " [3778211 rows x 1 columns],\n",
       "                                                           0\n",
       " 1         CTCAGNATGACGGACAGACCTGCGTGAGGCGTCATATGGAAGATCC...\n",
       " 5         CTCGGNATGACGGACAGACCCCGCTACATCAACATATGGAAGATCC...\n",
       " 9         CTCAGNATGACGGACAGACCCCGGCCCCCAAACATATGGAAGATCC...\n",
       " 13        CTCAGNATGACGGACAGACCTCGCTCGTCACGCATATGGAAGATCC...\n",
       " 17        CTCAGNATGACGGACAGACCACCGGAGACGGTCATATGGAAGATCC...\n",
       " ...                                                     ...\n",
       " 14960513  CTCAGCATGACGGACAGACCAACTGATTGCCGCATATGGAAGATCC...\n",
       " 14960517  CTCATCATGACGGACAGACCGCCCTCGCACGTCATATGGAAGATCC...\n",
       " 14960521  CTCAGCATGACGGACAGACCCAGTCATAGTGGCATATGGAAGATCC...\n",
       " 14960525  CTCAGCATGACGGACAGACCGCGACACCGATGCATATGGAAGATCC...\n",
       " 14960529  CTCAGCATGACGGACAGACCAGGTGTAGTGGACATATGGAAGATCC...\n",
       " \n",
       " [3740133 rows x 1 columns],\n",
       "                                                           0\n",
       " 1         TCAGCATGACGGACAGACCACTTGCTACTCCCATATGGAAGATCCT...\n",
       " 5         CTCAGCATGACGGACAGACCGCCTCGGTGGCTCATATGGAAGATCC...\n",
       " 9         CTCAGCATGACGGACAGACCTCGTATTGAGCGCATATGGAAGATCC...\n",
       " 13        CTCAGCTGACGGACAGACCAGCCGTCACCCTCATATGGAAGATCCT...\n",
       " 17        CTCAGCATGACGGACAGACCGACCCAAGGAGACATATGGAAGATCC...\n",
       " ...                                                     ...\n",
       " 17194069  CTCAGCATGACGGACAGACCGCCTCGCGCAAGCATATGGAAGATCC...\n",
       " 17194073  CTCAGCATGACGGACAGACCCCGGTCGTACGTCATATGGAAGATCC...\n",
       " 17194077  CTCAGCATGACGGACAGACCACAGGTCCAGGTCATATGGAAGATCC...\n",
       " 17194081  CTCAGCATGACGGACAGACCCAAAGATGCTTCCATATGGAAGATCC...\n",
       " 17194085  CTCAGCATGACGGACAGACCGAGGGTAGTAGGCATATGGAAGATCC...\n",
       " \n",
       " [4298522 rows x 1 columns],\n",
       "                                                           0\n",
       " 1         CTCAGCATGACGGACAGACCGACAAAAGGCAACATATGGAAGATCC...\n",
       " 5         CTCAGCATGACGGACAGACCTACGTTTGAAGCCATATGGAAGATCC...\n",
       " 9         CTCAGCATGACGGACAGACCAGTGCGCCTAAGCATATGGAAGATCC...\n",
       " 13        CTCAGCATGACGGACAGACCCAGACTCCGAAGCATATGGAAGATCC...\n",
       " 17        CTCAGCATGACGGACAGACCACCTTGGGGGCCCATATGGAAGATCC...\n",
       " ...                                                     ...\n",
       " 20600305  CTCAGCATGACGGACAGACCTGAAAGTACGTTCATATGGAAGATCC...\n",
       " 20600309  CTCAGCATGACGGACAGACCTATCTGCGAGTCCATATGGAAGATCC...\n",
       " 20600313  AAAACAATCAATGACAGACCTAATATTCGAACCATAACTAACATCC...\n",
       " 20600317  CTCAGCATGACGGACAGACCCCGTTTGAATTCCATATGGAAGATCC...\n",
       " 20600321  CTCAGCATGACGGACAGACCGGCCGGGACGGTCATATGGAAGATCC...\n",
       " \n",
       " [5150081 rows x 1 columns]]"
      ]
     },
     "execution_count": 8,
     "metadata": {},
     "output_type": "execute_result"
    }
   ],
   "source": [
    "gDNA_sequences"
   ]
  },
  {
   "cell_type": "code",
   "execution_count": 9,
   "id": "adb8a747-ca16-4da5-a34e-d46f05ed1ba2",
   "metadata": {},
   "outputs": [
    {
     "name": "stdout",
     "output_type": "stream",
     "text": [
      "Reading mRNA file: mRNA_rep1_19_8_7_5p4_minP_MPRA4p75_S5_R1_001.fastq.gz ...\n",
      "Finished reading mRNA_rep1_19_8_7_5p4_minP_MPRA4p75_S5_R1_001.fastq.gz ✅\n",
      "Reading mRNA file: mRNA_rep2_19_8_7_5p4_minP_MPRA4p75_S6_R1_001.fastq.gz ...\n",
      "Finished reading mRNA_rep2_19_8_7_5p4_minP_MPRA4p75_S6_R1_001.fastq.gz ✅\n",
      "Reading mRNA file: mRNA_rep3_19_8_7_5p4_minP_MPRA4p75_S9_R1_001.fastq.gz ...\n",
      "Finished reading mRNA_rep3_19_8_7_5p4_minP_MPRA4p75_S9_R1_001.fastq.gz ✅\n",
      "Reading mRNA file: mRNA_rep4_19_8_7_5p4_minP_MPRA4p75_S10_R1_001.fastq.gz ...\n",
      "Finished reading mRNA_rep4_19_8_7_5p4_minP_MPRA4p75_S10_R1_001.fastq.gz ✅\n"
     ]
    }
   ],
   "source": [
    "mRNA_sequences = []\n",
    "for file in files_mRNA:\n",
    "    print(f\"Reading mRNA file: {file} ...\")\n",
    "    mRNA_sequences.append(readin_fastq(data_path, file))\n",
    "    print(f\"Finished reading {file} ✅\")"
   ]
  },
  {
   "cell_type": "code",
   "execution_count": 38,
   "id": "cdeb7d55-a19b-474d-aab2-0b6d85198928",
   "metadata": {},
   "outputs": [
    {
     "data": {
      "text/plain": [
       "[                                                          0\n",
       " 1         CTAGCNTGACGGACAGACCCGTAGAACTCTGCATATGGAAGATCCT...\n",
       " 5         CTCAGNATGACGGACAGACCCCCCACCCAAGCCATATGGAAGATCC...\n",
       " 9         CTCAGNATGACGGACAGACCTCTATGCATGCACATATGGAAGATCC...\n",
       " 13        CTCAGNATGACGGACAGACCATCACGGAAAACCATATGGAAGATCC...\n",
       " 17        CTCAGNATGACGGACAGACCAGTGTGGCTGTTCATATGGAAGATCC...\n",
       " ...                                                     ...\n",
       " 18280625  CTCAGCATGACGGACAGACCCACTGCCGCTCGCATATGGAAGATCC...\n",
       " 18280629  CTCAGCATGACGGACAGACCGACCAAGTTGCTCATATGGAAGATCC...\n",
       " 18280633  CTCAGCATGACGGACAGACCGAGCCTCGAGGCCATATGGAAGATCC...\n",
       " 18280637  CTCAGCATGACGGACAGACCCAGCGACCAGTACATATGGAAGATCC...\n",
       " 18280641  CTCAGCATGACGGACAGACCTTTACCCCAACCCATATGGAAGATCC...\n",
       " \n",
       " [4570161 rows x 1 columns],\n",
       "                                                           0\n",
       " 1         CTCAGNATGACGGACAGACCACTCTCAGTCGGCATATGGAAGATCC...\n",
       " 5         CTCAGNATGACGGACAGACCTATGGGGATATGCATATGGAAGATCC...\n",
       " 9         CTCAGNATGACGGACAGACCCGTGGGAGCTGCCATATGGAAGATCC...\n",
       " 13        CTCAGNATGACGGACAGACCGGAACCCCGAGACATATGGAAGATCC...\n",
       " 17        CTCAGNATGACGGACAGACCTCTTATGGCCTGCATATGGAAGATCC...\n",
       " ...                                                     ...\n",
       " 18660597  CTCAGCATGACGGACAGACCTGTTGTGCGGTGCATATGGAAGATCC...\n",
       " 18660601  CTCAGCATGACGGACAGACCCCCTACTCGATTCATATGGAAGATCC...\n",
       " 18660605  CTCAGCATGACGGACAGACCAATTTTCTTGTGCATATGGAAGATCC...\n",
       " 18660609  CTCAGCATGACGGACAGACCTAATGGCATATGCATATGGAAGATCC...\n",
       " 18660613  CTCAGCATGACGGACAGACCAAGGGTGATGTGCATATGGAAGATCC...\n",
       " \n",
       " [4665154 rows x 1 columns],\n",
       "                                                           0\n",
       " 1         CTCAGCATGACGGACAGACCCGGTTCATCACCCATATGGAAGATCC...\n",
       " 5         CTCAGCATGACGGACAGACCCTTGAGCGACCTCATATGGAAGATCC...\n",
       " 9         CTCAGCATGACGGACAGACCCTTCTGTGCGTGCATATGGAAGATCC...\n",
       " 13        CTCAGCATGACGGACAGACCCAAAAGGTCAACCATATGGAAGATCC...\n",
       " 17        CTCAGCATGACGGACAGACCCACAGTCTAATGCATATGGAAGATCC...\n",
       " ...                                                     ...\n",
       " 19414509  CTCAGCATGACGGACAGACCGCATAGTACAGTCATATGGAAGATCC...\n",
       " 19414513  CTCAGCATGACGGACAGACCCACCAGGAATGGCATATGGAAGATCC...\n",
       " 19414517  CTCAGCATGACGGACAGACCTCTTAAGAAGGGCATATGGAAGATCC...\n",
       " 19414521  CTCAGCATGACGGACAGACCTTCCGTATCCTCCATATGGAGATCCT...\n",
       " 19414525  CTCAGCATGACGGACAGACCCAAGAACCTAGCCATATGGAAGATCC...\n",
       " \n",
       " [4853632 rows x 1 columns],\n",
       "                                                           0\n",
       " 1         CTAGCATGACGGACAGACCGACAGACCACCCCATATGGAAGATCCT...\n",
       " 5         CTCAGCATGACGGACAGACCCCGTGCGTCGCTCATATGGAAGATCC...\n",
       " 9         CCAGCATGACGGACAGACCAAACATGCACTCCATATGGAAGATCCT...\n",
       " 13        CTCAGCATGACGGACAGACCGATACATTTCAGCATATGGAAGATCC...\n",
       " 17        CTCAGCATGACGGACAGACCGATGTCTCCGTGCATATGGAAGATCC...\n",
       " ...                                                     ...\n",
       " 16711437  CTCAGCATGACGGACAGACCGATGACGGAAGACATATGGAAGATCC...\n",
       " 16711441  CCAGCATGACGGACAGACCAGCCTAAATTCACATATGGAAGATCCT...\n",
       " 16711445  CTCAGCATGACGGACAGACCGCGCGCATTATACATATGGAAGATCC...\n",
       " 16711449  CTCAGCATGACGGACAGACCGTGTCCAATGAACATATGGAAGATCC...\n",
       " 16711453  CTCAGCATGACGGACAGACCCTCTACAGTGGGCATATGGAAGATCC...\n",
       " \n",
       " [4177864 rows x 1 columns]]"
      ]
     },
     "execution_count": 38,
     "metadata": {},
     "output_type": "execute_result"
    }
   ],
   "source": [
    "mRNA_sequences"
   ]
  },
  {
   "cell_type": "code",
   "execution_count": 13,
   "id": "babca95d-5d39-4b9d-9e11-65d5d11ef0c8",
   "metadata": {},
   "outputs": [],
   "source": [
    "f = pd.read_csv(join(data_path,'gDNA_rep1_19_8_7_5p4_minP_MPRA4p75_S3_R1_001.fastq.gz'),sep=\"\\t\",header=None)\n",
    "f = f.iloc[range(1,f.shape[0],4),:]"
   ]
  },
  {
   "cell_type": "code",
   "execution_count": 14,
   "id": "dbb6e8c0-f03c-43c8-b4b6-8c830dc088cc",
   "metadata": {},
   "outputs": [
    {
     "name": "stdout",
     "output_type": "stream",
     "text": [
      "True\n"
     ]
    }
   ],
   "source": [
    "# making sure that each sequence is 75 nucleotides\n",
    "count = 0\n",
    "for seq in f.iloc[:,0]:\n",
    "    if len(seq) == 75:\n",
    "        count += 1\n",
    "\n",
    "print(count == len(f.iloc[:,0]))"
   ]
  },
  {
   "cell_type": "code",
   "execution_count": 40,
   "id": "8042d5ef-4a50-4a13-8352-91336397b217",
   "metadata": {},
   "outputs": [
    {
     "name": "stdout",
     "output_type": "stream",
     "text": [
      "number of sequences with the same starting sequence:  3475038  | number of sequences with a different starting sequence:  303173\n"
     ]
    }
   ],
   "source": [
    "# it seems that NOT all sequences start with a certain fixed primer of length 20\n",
    "count = 0\n",
    "count2 = 0\n",
    "for seq in f.iloc[:,0]:\n",
    "    if seq[:20] == 'CTCAGNATGACGGACAGACC' or seq[:20] == 'CTCAGCATGACGGACAGACC':\n",
    "     count += 1\n",
    "    else:\n",
    "     count2 +=1\n",
    "print('number of sequences with the same starting sequence: ', count, ' | number of sequences with a different starting sequence: ', count2)"
   ]
  },
  {
   "cell_type": "code",
   "execution_count": 51,
   "id": "31ca288b-13ac-4670-9db4-dac45d90f3cf",
   "metadata": {},
   "outputs": [],
   "source": [
    "def extract_barcode_with_flanks(sequence, start, end, le_length=8, ri_length=8):\n",
    "    barcode = sequence[start:end]\n",
    "    left_flank = sequence[start - le_length:start]\n",
    "    right_flank = sequence[end:end + ri_length]\n",
    "    return left_flank, barcode, right_flank\n",
    "\n",
    "def process_sequences(sequences, le, ri, start, end, seq_type='gDNA'):\n",
    "    sequences_dict = {}  # key: barcode, value: list of 4 counts (one per replicate)\n",
    "    \n",
    "    for replicate_num, df in enumerate(sequences):\n",
    "        print(f'Processing replicate {replicate_num + 1}...') # just for visualization\n",
    "        \n",
    "        extracted = df.iloc[:, 0].apply(lambda seq: extract_barcode_with_flanks(seq, start, end))\n",
    "        df_extracted = pd.DataFrame(extracted.tolist(), columns=['flank_l', 'BC', 'flank_r']) # a dataframe where rows are sequences, and columns are left-flanking, right-flanking, and barcode regions\n",
    "        \n",
    "        # filter sequences that match the given left and right flanks\n",
    "        df_filtered = df_extracted[(df_extracted['flank_l'] == le) & (df_extracted['flank_r'] == ri)]\n",
    "        \n",
    "        # count occurrences of each barcode\n",
    "        barcode_counts = Counter(df_filtered['BC'])\n",
    "        \n",
    "        # store counts in the dictionary\n",
    "        for barcode, count in barcode_counts.items():\n",
    "            if barcode not in sequences_dict:\n",
    "                sequences_dict[barcode] = [0] * replicate_num  # initialize with zeros for the past replicates\n",
    "            sequences_dict[barcode] += [0] * (replicate_num + 1 - len(sequences_dict[barcode]))\n",
    "            sequences_dict[barcode][replicate_num] = count  # assign count to each replicate\n",
    "    \n",
    "    for barcode in sequences_dict:\n",
    "     if len(sequences_dict[barcode]) < len(sequences):\n",
    "        sequences_dict[barcode] += [0] * (len(sequences) - len(sequences_dict[barcode]))\n",
    "    # convert dict to dataframe\n",
    "    seq_data = [[seq] + counts for seq, counts in sequences_dict.items()]\n",
    "    seq_columns = ['sequence'] + [f'{seq_type}_rep{i+1}' for i in range(len(sequences))]\n",
    "    seq_df = pd.DataFrame(seq_data, columns=seq_columns)\n",
    "    \n",
    "    print(\"✅ Finished processing!\")\n",
    "    return seq_df"
   ]
  },
  {
   "cell_type": "code",
   "execution_count": 52,
   "id": "4a357879-5242-4afe-b38c-345124f62553",
   "metadata": {},
   "outputs": [
    {
     "name": "stdout",
     "output_type": "stream",
     "text": [
      "Processing replicate 1...\n",
      "Processing replicate 2...\n",
      "Processing replicate 3...\n",
      "Processing replicate 4...\n",
      "✅ Finished processing!\n"
     ]
    },
    {
     "data": {
      "text/html": [
       "<div>\n",
       "<style scoped>\n",
       "    .dataframe tbody tr th:only-of-type {\n",
       "        vertical-align: middle;\n",
       "    }\n",
       "\n",
       "    .dataframe tbody tr th {\n",
       "        vertical-align: top;\n",
       "    }\n",
       "\n",
       "    .dataframe thead th {\n",
       "        text-align: right;\n",
       "    }\n",
       "</style>\n",
       "<table border=\"1\" class=\"dataframe\">\n",
       "  <thead>\n",
       "    <tr style=\"text-align: right;\">\n",
       "      <th></th>\n",
       "      <th>sequence</th>\n",
       "      <th>gDNA_rep1</th>\n",
       "      <th>gDNA_rep2</th>\n",
       "      <th>gDNA_rep3</th>\n",
       "      <th>gDNA_rep4</th>\n",
       "    </tr>\n",
       "  </thead>\n",
       "  <tbody>\n",
       "    <tr>\n",
       "      <th>0</th>\n",
       "      <td>TAGTCTGATTCC</td>\n",
       "      <td>66</td>\n",
       "      <td>0</td>\n",
       "      <td>7</td>\n",
       "      <td>113</td>\n",
       "    </tr>\n",
       "    <tr>\n",
       "      <th>1</th>\n",
       "      <td>TCCGTTTTCCGT</td>\n",
       "      <td>96</td>\n",
       "      <td>0</td>\n",
       "      <td>0</td>\n",
       "      <td>0</td>\n",
       "    </tr>\n",
       "    <tr>\n",
       "      <th>2</th>\n",
       "      <td>TTGCCGTCGTAG</td>\n",
       "      <td>45</td>\n",
       "      <td>99</td>\n",
       "      <td>42</td>\n",
       "      <td>0</td>\n",
       "    </tr>\n",
       "    <tr>\n",
       "      <th>3</th>\n",
       "      <td>TGCTAAACCATG</td>\n",
       "      <td>442</td>\n",
       "      <td>201</td>\n",
       "      <td>146</td>\n",
       "      <td>184</td>\n",
       "    </tr>\n",
       "    <tr>\n",
       "      <th>4</th>\n",
       "      <td>TTCGCACCATAT</td>\n",
       "      <td>236</td>\n",
       "      <td>0</td>\n",
       "      <td>406</td>\n",
       "      <td>487</td>\n",
       "    </tr>\n",
       "    <tr>\n",
       "      <th>...</th>\n",
       "      <td>...</td>\n",
       "      <td>...</td>\n",
       "      <td>...</td>\n",
       "      <td>...</td>\n",
       "      <td>...</td>\n",
       "    </tr>\n",
       "    <tr>\n",
       "      <th>394863</th>\n",
       "      <td>ACAAGGCAGCGA</td>\n",
       "      <td>0</td>\n",
       "      <td>0</td>\n",
       "      <td>0</td>\n",
       "      <td>1</td>\n",
       "    </tr>\n",
       "    <tr>\n",
       "      <th>394864</th>\n",
       "      <td>CGTCGTTTAACA</td>\n",
       "      <td>0</td>\n",
       "      <td>0</td>\n",
       "      <td>0</td>\n",
       "      <td>1</td>\n",
       "    </tr>\n",
       "    <tr>\n",
       "      <th>394865</th>\n",
       "      <td>ACGGAATGAGCC</td>\n",
       "      <td>0</td>\n",
       "      <td>0</td>\n",
       "      <td>0</td>\n",
       "      <td>1</td>\n",
       "    </tr>\n",
       "    <tr>\n",
       "      <th>394866</th>\n",
       "      <td>GTCATTAAAGGT</td>\n",
       "      <td>0</td>\n",
       "      <td>0</td>\n",
       "      <td>0</td>\n",
       "      <td>1</td>\n",
       "    </tr>\n",
       "    <tr>\n",
       "      <th>394867</th>\n",
       "      <td>TAGTTGGGCTCG</td>\n",
       "      <td>0</td>\n",
       "      <td>0</td>\n",
       "      <td>0</td>\n",
       "      <td>1</td>\n",
       "    </tr>\n",
       "  </tbody>\n",
       "</table>\n",
       "<p>394868 rows × 5 columns</p>\n",
       "</div>"
      ],
      "text/plain": [
       "            sequence  gDNA_rep1  gDNA_rep2  gDNA_rep3  gDNA_rep4\n",
       "0       TAGTCTGATTCC         66          0          7        113\n",
       "1       TCCGTTTTCCGT         96          0          0          0\n",
       "2       TTGCCGTCGTAG         45         99         42          0\n",
       "3       TGCTAAACCATG        442        201        146        184\n",
       "4       TTCGCACCATAT        236          0        406        487\n",
       "...              ...        ...        ...        ...        ...\n",
       "394863  ACAAGGCAGCGA          0          0          0          1\n",
       "394864  CGTCGTTTAACA          0          0          0          1\n",
       "394865  ACGGAATGAGCC          0          0          0          1\n",
       "394866  GTCATTAAAGGT          0          0          0          1\n",
       "394867  TAGTTGGGCTCG          0          0          0          1\n",
       "\n",
       "[394868 rows x 5 columns]"
      ]
     },
     "execution_count": 52,
     "metadata": {},
     "output_type": "execute_result"
    }
   ],
   "source": [
    "gDNA_df = process_sequences(gDNA_sequences, le='GACAGACC', ri='CATATGGA', start=20, end=32, seq_type='gDNA')\n",
    "gDNA_df"
   ]
  },
  {
   "cell_type": "code",
   "execution_count": 53,
   "id": "ac2801c9-c2c5-41b6-8d65-991dad2fb970",
   "metadata": {},
   "outputs": [],
   "source": [
    "gDNA_df.to_csv('barcode_gDNA_counts_upstream.tsv', sep='\\t', index=False)"
   ]
  },
  {
   "cell_type": "code",
   "execution_count": 54,
   "id": "2f240b9d-f6ec-4ce0-bfdc-a00eb6ecc650",
   "metadata": {},
   "outputs": [
    {
     "name": "stdout",
     "output_type": "stream",
     "text": [
      "Processing replicate 1...\n",
      "Processing replicate 2...\n",
      "Processing replicate 3...\n",
      "Processing replicate 4...\n",
      "✅ Finished processing!\n"
     ]
    },
    {
     "data": {
      "text/html": [
       "<div>\n",
       "<style scoped>\n",
       "    .dataframe tbody tr th:only-of-type {\n",
       "        vertical-align: middle;\n",
       "    }\n",
       "\n",
       "    .dataframe tbody tr th {\n",
       "        vertical-align: top;\n",
       "    }\n",
       "\n",
       "    .dataframe thead th {\n",
       "        text-align: right;\n",
       "    }\n",
       "</style>\n",
       "<table border=\"1\" class=\"dataframe\">\n",
       "  <thead>\n",
       "    <tr style=\"text-align: right;\">\n",
       "      <th></th>\n",
       "      <th>sequence</th>\n",
       "      <th>mRNA_rep1</th>\n",
       "      <th>mRNA_rep2</th>\n",
       "      <th>mRNA_rep3</th>\n",
       "      <th>mRNA_rep4</th>\n",
       "    </tr>\n",
       "  </thead>\n",
       "  <tbody>\n",
       "    <tr>\n",
       "      <th>0</th>\n",
       "      <td>CCCCACCCAAGC</td>\n",
       "      <td>2664</td>\n",
       "      <td>2831</td>\n",
       "      <td>3139</td>\n",
       "      <td>2462</td>\n",
       "    </tr>\n",
       "    <tr>\n",
       "      <th>1</th>\n",
       "      <td>TCTATGCATGCA</td>\n",
       "      <td>86</td>\n",
       "      <td>31</td>\n",
       "      <td>0</td>\n",
       "      <td>99</td>\n",
       "    </tr>\n",
       "    <tr>\n",
       "      <th>2</th>\n",
       "      <td>ATCACGGAAAAC</td>\n",
       "      <td>1576</td>\n",
       "      <td>2110</td>\n",
       "      <td>1725</td>\n",
       "      <td>2124</td>\n",
       "    </tr>\n",
       "    <tr>\n",
       "      <th>3</th>\n",
       "      <td>AGTGTGGCTGTT</td>\n",
       "      <td>1094</td>\n",
       "      <td>990</td>\n",
       "      <td>883</td>\n",
       "      <td>1171</td>\n",
       "    </tr>\n",
       "    <tr>\n",
       "      <th>4</th>\n",
       "      <td>TTCAGCACGAAT</td>\n",
       "      <td>1014</td>\n",
       "      <td>836</td>\n",
       "      <td>882</td>\n",
       "      <td>876</td>\n",
       "    </tr>\n",
       "    <tr>\n",
       "      <th>...</th>\n",
       "      <td>...</td>\n",
       "      <td>...</td>\n",
       "      <td>...</td>\n",
       "      <td>...</td>\n",
       "      <td>...</td>\n",
       "    </tr>\n",
       "    <tr>\n",
       "      <th>306492</th>\n",
       "      <td>GTGTACACAGTT</td>\n",
       "      <td>0</td>\n",
       "      <td>0</td>\n",
       "      <td>0</td>\n",
       "      <td>1</td>\n",
       "    </tr>\n",
       "    <tr>\n",
       "      <th>306493</th>\n",
       "      <td>CGGGGCAACAAG</td>\n",
       "      <td>0</td>\n",
       "      <td>0</td>\n",
       "      <td>0</td>\n",
       "      <td>1</td>\n",
       "    </tr>\n",
       "    <tr>\n",
       "      <th>306494</th>\n",
       "      <td>TGTGAGCAGTCA</td>\n",
       "      <td>0</td>\n",
       "      <td>0</td>\n",
       "      <td>0</td>\n",
       "      <td>1</td>\n",
       "    </tr>\n",
       "    <tr>\n",
       "      <th>306495</th>\n",
       "      <td>GGGTACAAATGC</td>\n",
       "      <td>0</td>\n",
       "      <td>0</td>\n",
       "      <td>0</td>\n",
       "      <td>1</td>\n",
       "    </tr>\n",
       "    <tr>\n",
       "      <th>306496</th>\n",
       "      <td>GATGACGGAAGA</td>\n",
       "      <td>0</td>\n",
       "      <td>0</td>\n",
       "      <td>0</td>\n",
       "      <td>1</td>\n",
       "    </tr>\n",
       "  </tbody>\n",
       "</table>\n",
       "<p>306497 rows × 5 columns</p>\n",
       "</div>"
      ],
      "text/plain": [
       "            sequence  mRNA_rep1  mRNA_rep2  mRNA_rep3  mRNA_rep4\n",
       "0       CCCCACCCAAGC       2664       2831       3139       2462\n",
       "1       TCTATGCATGCA         86         31          0         99\n",
       "2       ATCACGGAAAAC       1576       2110       1725       2124\n",
       "3       AGTGTGGCTGTT       1094        990        883       1171\n",
       "4       TTCAGCACGAAT       1014        836        882        876\n",
       "...              ...        ...        ...        ...        ...\n",
       "306492  GTGTACACAGTT          0          0          0          1\n",
       "306493  CGGGGCAACAAG          0          0          0          1\n",
       "306494  TGTGAGCAGTCA          0          0          0          1\n",
       "306495  GGGTACAAATGC          0          0          0          1\n",
       "306496  GATGACGGAAGA          0          0          0          1\n",
       "\n",
       "[306497 rows x 5 columns]"
      ]
     },
     "execution_count": 54,
     "metadata": {},
     "output_type": "execute_result"
    }
   ],
   "source": [
    "mRNA_df = process_sequences(mRNA_sequences, le='GACAGACC', ri='CATATGGA', start=20, end=32, seq_type='mRNA')\n",
    "mRNA_df"
   ]
  },
  {
   "cell_type": "code",
   "execution_count": 55,
   "id": "34aa7751-eccd-4a41-8ec1-e53bf6b5db12",
   "metadata": {},
   "outputs": [],
   "source": [
    "mRNA_df.to_csv('barcode_mRNA_counts_upstream.tsv', sep='\\t', index=False)"
   ]
  }
 ],
 "metadata": {
  "kernelspec": {
   "display_name": "base ENV",
   "language": "python",
   "name": "baseenv"
  },
  "language_info": {
   "codemirror_mode": {
    "name": "ipython",
    "version": 3
   },
   "file_extension": ".py",
   "mimetype": "text/x-python",
   "name": "python",
   "nbconvert_exporter": "python",
   "pygments_lexer": "ipython3",
   "version": "3.13.1"
  }
 },
 "nbformat": 4,
 "nbformat_minor": 5
}
