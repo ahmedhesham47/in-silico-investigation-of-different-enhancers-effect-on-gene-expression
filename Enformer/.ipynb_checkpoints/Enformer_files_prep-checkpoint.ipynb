{
 "cells": [
  {
   "cell_type": "code",
   "execution_count": 3,
   "id": "efc86def-a9eb-4c7d-ae47-4207d8fcfea4",
   "metadata": {},
   "outputs": [],
   "source": [
    "import pandas as pd\n",
    "import numpy as np\n",
    "import os\n",
    "import random\n",
    "from pyfastaq.sequences import file_reader as fasta_reader\n",
    "import requests"
   ]
  },
  {
   "cell_type": "code",
   "execution_count": 4,
   "id": "4ca212e9-9758-47d8-8692-a511dae43977",
   "metadata": {},
   "outputs": [],
   "source": [
    "# === PARAMETERS ===\n",
    "SEQUENCE_LENGTH = 393_216\n",
    "ENHANCER_INSERT_START  = 997  # Enhancer inserted here in the construct\n",
    "CONSTRUCT_LENGTH = 1371\n",
    "FLANK_LEFT = (SEQUENCE_LENGTH - CONSTRUCT_LENGTH) // 2\n",
    "FLANK_RIGHT = (SEQUENCE_LENGTH - CONSTRUCT_LENGTH) - FLANK_LEFT\n",
    "POS_ENCODING_REPLICATES = 5\n",
    "MAX_SHIFT = 64"
   ]
  },
  {
   "cell_type": "code",
   "execution_count": 5,
   "id": "5794bca3-4f87-417d-bf56-c547b47ee1a3",
   "metadata": {},
   "outputs": [],
   "source": [
    "# === PATHS ===\n",
    "enhancer_csv = \"lib_tab_TF_syntax_rd_label_and_seq_for_combined_libs_4p5and4p7_combined_2025_04_04.csv\"  # Should contain 'seq' column\n",
    "construct_fasta = \"downstream_construct_seq.fasta\"  # Should be a FASTA file with 1371bp\n",
    "output_dir = \"enformer_input_fasta_downstream\"\n",
    "output_fasta = os.path.join(output_dir, \"downstream_enformer_inputs.fasta\")\n",
    "os.makedirs(output_dir, exist_ok=True)"
   ]
  },
  {
   "cell_type": "code",
   "execution_count": 6,
   "id": "312a1a58-8997-4cf9-836a-821dcbc4a8a9",
   "metadata": {},
   "outputs": [],
   "source": [
    "# === Load Enhancer Sequences ===\n",
    "enhancer_df = pd.read_csv(enhancer_csv)\n",
    "\n",
    "# === Load Construct Template ===\n",
    "with open(construct_fasta) as f:\n",
    "    lines = f.read().splitlines()\n",
    "    construct_seq = \"\".join([l.strip() for l in lines if not l.startswith(\">\")])\n",
    "assert len(construct_seq) == CONSTRUCT_LENGTH, f\"Expected construct length {CONSTRUCT_LENGTH}, got {len(construct_seq)}\"\n",
    "\n",
    "# === Fetch AXIN2 Genomic Flank from UCSC ===\n",
    "AXIN2_CHR, AXIN2_LOC = \"chr17\", 65509852  # approximate center of insertion\n",
    "total_flank_needed = SEQUENCE_LENGTH - CONSTRUCT_LENGTH\n",
    "start = AXIN2_LOC - (total_flank_needed // 2)\n",
    "end = AXIN2_LOC + (total_flank_needed - total_flank_needed // 2)\n",
    "url = f\"https://api.genome.ucsc.edu/getData/sequence?genome=hg38;chrom={AXIN2_CHR};start={start};end={end}\"\n",
    "axin2_seq = requests.get(url).json()[\"dna\"].upper()\n",
    "assert len(axin2_seq) == total_flank_needed, f\"Axin2 flank is {len(axin2_seq)}, expected {total_flank_needed}\""
   ]
  },
  {
   "cell_type": "code",
   "execution_count": 10,
   "id": "388feacb-7b6c-4485-a5e3-a345e4deaeb5",
   "metadata": {},
   "outputs": [],
   "source": [
    "# === Write Positional Encoding FASTA ===\n",
    "with open(output_fasta, \"w\") as out_fasta:\n",
    "    for i, row in enhancer_df.iterrows():\n",
    "        enhancer_seq = row[\"seq\"]\n",
    "        enhancer_id = row.get(\"inferred_name\", f\"enhancer_{i}\")\n",
    "        ENHANCER_INSERT_END = ENHANCER_INSERT_START + len(enhancer_seq)\n",
    "\n",
    "        # Insert enhancer into construct\n",
    "        modified_construct = (\n",
    "            construct_seq[:ENHANCER_INSERT_START] +\n",
    "            enhancer_seq +\n",
    "            construct_seq[ENHANCER_INSERT_END:]\n",
    "        )\n",
    "\n",
    "        construct_len = len(modified_construct)\n",
    "        flank_total = SEQUENCE_LENGTH - construct_len\n",
    "        assert flank_total > 0, f\"Construct too long for Enformer input: {construct_len}\"\n",
    "\n",
    "        for j in range(1, POS_ENCODING_REPLICATES + 1):\n",
    "            # Shift up to MAX_SHIFT bp randomly\n",
    "            shift = random.randint(-MAX_SHIFT, MAX_SHIFT)\n",
    "            left_flank_size = (flank_total // 2) + shift\n",
    "            right_flank_size = flank_total - left_flank_size\n",
    "\n",
    "            left_flank = axin2_seq[:left_flank_size]\n",
    "            right_flank = axin2_seq[-right_flank_size:]\n",
    "            full_seq = left_flank + modified_construct + right_flank\n",
    "\n",
    "            assert len(full_seq) == SEQUENCE_LENGTH, f\"Final sequence length is {len(full_seq)} (expected {SEQUENCE_LENGTH})\"\n",
    "\n",
    "            header = f\"{enhancer_id}_pos_enc_shift{shift}\"\n",
    "            out_fasta.write(f\">{header}\\n\")\n",
    "            for k in range(0, len(full_seq), 80):\n",
    "                out_fasta.write(full_seq[k:k+80] + \"\\n\")"
   ]
  },
  {
   "cell_type": "code",
   "execution_count": 11,
   "id": "17358267-1ab2-46a8-9681-d28d502f1284",
   "metadata": {},
   "outputs": [
    {
     "name": "stdout",
     "output_type": "stream",
     "text": [
      "✅ All sequences are 393216 bp long.\n"
     ]
    }
   ],
   "source": [
    "def check_fasta_lengths(fasta_file, expected_length=393_216):\n",
    "    with open(fasta_file) as f:\n",
    "        seq = \"\"\n",
    "        header = None\n",
    "        for line in f:\n",
    "            line = line.strip()\n",
    "            if line.startswith(\">\"):\n",
    "                if header and len(seq) != expected_length:\n",
    "                    print(f\"❌ {header} has length {len(seq)} (expected {expected_length})\")\n",
    "                header = line[1:]\n",
    "                seq = \"\"\n",
    "            else:\n",
    "                seq += line\n",
    "        # Check the last sequence\n",
    "        if header and len(seq) != expected_length:\n",
    "            print(f\"❌ {header} has length {len(seq)} (expected {expected_length})\")\n",
    "        else:\n",
    "            print(\"✅ All sequences are 393216 bp long.\")\n",
    "\n",
    "# Example usage\n",
    "check_fasta_lengths(\"enformer_input_fasta_downstream/downstream_enformer_inputs.fasta\")"
   ]
  },
  {
   "cell_type": "code",
   "execution_count": 20,
   "id": "b880009f-ae51-4f25-b635-8f79612ede45",
   "metadata": {},
   "outputs": [
    {
     "name": "stdout",
     "output_type": "stream",
     "text": [
      ">rd_1_pos_enc_shift-46\n",
      "CCTAGGCCTCCCAAAGTGCCGGGATTACAGGCATGGGCCACTGCACCCAAGGCAAGACTAGATTTTTTAAAATACTGTTC\n",
      "CAGAACCAGCTGACCAGTGGCCCCAATACCACATATGCAGGGCTGTGATCCAGTGGGACATCCTAGCACCGGGTAGAAAA\n",
      "TATTGAAATACTGAGCTAATGGTTGATAAACAGCCATAGCTTCTAGTTTCCTGAGTGCCATCTGCTGTCCCAACTACTTG\n",
      "CCCCCTCTCCCAGGACCTCCTGGACTTCCCCACATTTCAGACACCTAACAGTGAATGACTGACACAGCAGAGGGTCTCTG\n",
      "GGTCCCTGAACCTGCTGCTAGGGCCCGCATCTGCTCTGATTGGCCTGTGTCTTATCACTGGCTAAGTGTTTTCACTATTC\n",
      "CCCTTCACATGCGATTGTATGACAGAAGCATACCCAGCCGTGGTTGACATCGGGGACGTGGTTAACCACTTGCTCCCGCC\n",
      "TGCAACACCTCCCTGCCATTTTCCTGGTTTCCTACTACCCTTGCCCTCTGTCTGCTGCTTCTCTTTTGCAGTTCCCTTTT\n",
      "TTTGTTGTTGTTCCATATTGGTGCCCTGTCCTAGTCCCCTTCTCCTGTCTAGCCCTAAGTGATTACTTTAAGCACCATCT\n",
      "ATATGTCCTGAACTCAGAAGGCAATAGACAAGCTTATCAGACTTGTGTAAAAAGTAAAAGTTAATAATTCTGAGGAAGGC\n",
      "AGATACTCTTTCTCAAAAAGAAAAGATGCCTATGGTTTATTGTGATGGTCCCCAGACACTCATTTGTGGATTAACCATAG\n",
      "CAGAATTACCCAGGAATATCTAAACGATGAGGATTCATTCAACTCCTTCCCTAGAGGACCGGTTTCAGTAGGTGTGGAAT\n",
      "AGGTTCTGAGAATCTCTGCTTGTTCAAAAGCAGCCTAGGCAAAGGATATGAATAGACAATTCTCAAAAGAAGATACACAA\n",
      "ATGGCCAAGAAACATGGAAAAATGCTCAAATGCATATCACTAATTATCAGGGGTATGCAAATTAAAACCACAAGGAGCTA\n",
      "CCACCTTACTCCCACAAGAATGGCCATAATTTAAAAATCAAAAAATAATAGATGTTGGTTTGGATGTGGTGATAAGTGAA\n",
      "CACTTTTACAGCAGCACAATTCACAACTGCAAAAATATGCAACCAGCCTAAATGTCCATCAACCAACGAATGGATGAGGA\n",
      "AATTGTGAGATACATATATATATATAAACACACCATGGAATACTACTCAGCCATTAGAAGGAACAAAATAATGGCATTTG\n",
      "CAGCAACCTGGGTGGAGTTGGAGACCATTAGTCTAAGTGAAGTAACTCAGGAATGGAAAAACCAAATATTGTATGTTCTC\n",
      "ACTTATAAGCGGGCGCTGAGCTATGAGGATGCAAAGGCATACGAATGATATAATGGATTTTAGGGACTCAGGGGAAAGGT\n",
      "GGGAGGGGAGTGAGGGATAACAGACTGTACATTGGGTACAGTACACTGCTCAGGTAACAGGTGCACCAAAATCTCAGAAA\n"
     ]
    }
   ],
   "source": [
    "# Read and preview first N lines of a large FASTA file\n",
    "fasta_path = \"enformer_input_fasta_downstream/downstream_enformer_inputs.fasta\"\n",
    "\n",
    "N = 20  # Number of lines to preview\n",
    "with open(fasta_path) as f:\n",
    "    for i in range(N):\n",
    "        line = f.readline()\n",
    "        if not line:\n",
    "            break\n",
    "        print(line.strip())"
   ]
  }
 ],
 "metadata": {
  "kernelspec": {
   "display_name": "Enformer (py39)",
   "language": "python",
   "name": "enformer"
  },
  "language_info": {
   "codemirror_mode": {
    "name": "ipython",
    "version": 3
   },
   "file_extension": ".py",
   "mimetype": "text/x-python",
   "name": "python",
   "nbconvert_exporter": "python",
   "pygments_lexer": "ipython3",
   "version": "3.9.7"
  }
 },
 "nbformat": 4,
 "nbformat_minor": 5
}
