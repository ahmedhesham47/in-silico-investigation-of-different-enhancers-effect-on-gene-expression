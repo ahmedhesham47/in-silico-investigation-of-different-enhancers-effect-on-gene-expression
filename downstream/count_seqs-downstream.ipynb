{
 "cells": [
  {
   "cell_type": "code",
   "execution_count": 2,
   "id": "5d791275-b89e-4eeb-b62f-f274c98b6fcb",
   "metadata": {},
   "outputs": [],
   "source": [
    "import numpy as np\n",
    "from os import listdir\n",
    "from os.path import join\n",
    "from itertools import compress\n",
    "import pandas as pd\n",
    "from collections import Counter"
   ]
  },
  {
   "cell_type": "code",
   "execution_count": 3,
   "id": "f26d20b6-8be8-40b4-bb27-3b64db83f0b9",
   "metadata": {},
   "outputs": [],
   "source": [
    "def readin_fastq(core_path,filename):\n",
    "    seqsraw = pd.read_csv(join(core_path,filename),sep=\"\\t\",header=None)  # txt files are tab-separated that is why we say that the seperator is \"tab\" represented by \"\\t\" (sep = \"\\t\")\n",
    "    seqs = seqsraw.iloc[range(1,seqsraw.shape[0],4),:] # the range function specifies the number of lines in each file and that onle every 4th line should be read -> fastq files have 4 lines per read, one with seqeunce and remaining 3 quality indicators\n",
    "    \n",
    "    return(seqs)"
   ]
  },
  {
   "cell_type": "code",
   "execution_count": 4,
   "id": "88a3e7cc-b9d5-45df-9fd1-3ecac7a52816",
   "metadata": {},
   "outputs": [],
   "source": [
    "data_path = '/project2/kribelba_1515/data/EXTRA_seq/2024_data/endoSTARR_lib5p3'"
   ]
  },
  {
   "cell_type": "code",
   "execution_count": 5,
   "id": "d826e181-f395-4176-b311-f68cc4656958",
   "metadata": {},
   "outputs": [
    {
     "data": {
      "text/plain": [
       "['gDNA_rep1_19_10cyc_5p3_endoSTARR_4p75_S7_R1_001.fastq.gz',\n",
       " 'gDNA_rep2_19_10cyc_5p3_endoSTARR_4p75_S8_R1_001.fastq.gz',\n",
       " 'gDNA_rep3_20_10cyc_5p3_endoSTARR_4p75_S11_R1_001.fastq.gz',\n",
       " 'mRNA_rep1_21_10cyc_5p3_endoSTARR_4p75_S9_R1_001.fastq.gz',\n",
       " 'mRNA_rep2_21_10cyc_5p3_endoSTARR_4p75_S10_R1_001.fastq.gz',\n",
       " 'mRNA_rep3_22_10cyc_5p3_endoSTARR_4p75_S12_R1_001.fastq.gz',\n",
       " 'mapping']"
      ]
     },
     "execution_count": 5,
     "metadata": {},
     "output_type": "execute_result"
    }
   ],
   "source": [
    "files = listdir(data_path)\n",
    "files"
   ]
  },
  {
   "cell_type": "code",
   "execution_count": 6,
   "id": "cc407b1c-7eab-4431-98df-05e8a5d1ca77",
   "metadata": {},
   "outputs": [
    {
     "name": "stdout",
     "output_type": "stream",
     "text": [
      "gDNA Files: ['gDNA_rep1_19_10cyc_5p3_endoSTARR_4p75_S7_R1_001.fastq.gz', 'gDNA_rep2_19_10cyc_5p3_endoSTARR_4p75_S8_R1_001.fastq.gz', 'gDNA_rep3_20_10cyc_5p3_endoSTARR_4p75_S11_R1_001.fastq.gz']\n",
      "mRNA Files: ['mRNA_rep1_21_10cyc_5p3_endoSTARR_4p75_S9_R1_001.fastq.gz', 'mRNA_rep2_21_10cyc_5p3_endoSTARR_4p75_S10_R1_001.fastq.gz', 'mRNA_rep3_22_10cyc_5p3_endoSTARR_4p75_S12_R1_001.fastq.gz']\n"
     ]
    }
   ],
   "source": [
    "# Filter for gDNA and mRNA separately\n",
    "files_gDNA = list(compress(files, [\"gDNA\" in i for i in files]))\n",
    "files_mRNA = list(compress(files, [\"mRNA\" in i for i in files]))\n",
    "\n",
    "print(\"gDNA Files:\", files_gDNA)\n",
    "print(\"mRNA Files:\", files_mRNA)"
   ]
  },
  {
   "cell_type": "code",
   "execution_count": 7,
   "id": "761558de-d114-48a5-8652-213d0059ccb9",
   "metadata": {},
   "outputs": [
    {
     "name": "stdout",
     "output_type": "stream",
     "text": [
      "Reading gDNA file: gDNA_rep1_19_10cyc_5p3_endoSTARR_4p75_S7_R1_001.fastq.gz ...\n",
      "Finished reading gDNA_rep1_19_10cyc_5p3_endoSTARR_4p75_S7_R1_001.fastq.gz ✅\n",
      "Reading gDNA file: gDNA_rep2_19_10cyc_5p3_endoSTARR_4p75_S8_R1_001.fastq.gz ...\n",
      "Finished reading gDNA_rep2_19_10cyc_5p3_endoSTARR_4p75_S8_R1_001.fastq.gz ✅\n",
      "Reading gDNA file: gDNA_rep3_20_10cyc_5p3_endoSTARR_4p75_S11_R1_001.fastq.gz ...\n",
      "Finished reading gDNA_rep3_20_10cyc_5p3_endoSTARR_4p75_S11_R1_001.fastq.gz ✅\n"
     ]
    }
   ],
   "source": [
    "gDNA_sequences = []\n",
    "for file in files_gDNA:\n",
    "    print(f\"Reading gDNA file: {file} ...\")\n",
    "    gDNA_sequences.append(readin_fastq(data_path, file))\n",
    "    print(f\"Finished reading {file} ✅\")"
   ]
  },
  {
   "cell_type": "code",
   "execution_count": 8,
   "id": "489c06bf-c748-42a8-b02f-103c2d4658f9",
   "metadata": {},
   "outputs": [
    {
     "data": {
      "text/plain": [
       "[                                                          0\n",
       " 1         GTGGCNTAACCAGCTGTCGGATCCGTCATGAAACTATCGTCCGAGC...\n",
       " 5         TCTCTNACATGCGCTGTCGGATCCGTTGGGGTGCACGTCCCCTATG...\n",
       " 9         CGTTCNGATCAGGCTGTCGGATCCGTTGGGGTGCACGTCCCCTATG...\n",
       " 13        GTAAANCTGGTCGCTGTCGGATCCGTTGGGGTGCACGTCCCCTATG...\n",
       " 17        AGGGANCGGCATGCTGTCGGATCCGTAAAAGTGAAGAACGGCGCCC...\n",
       " ...                                                     ...\n",
       " 32342449  TTCAGGCATTCCGCTGTCGGATCCGTTGGGGTGCACGTCCCCTATG...\n",
       " 32342453  ATTCGTGCGCCGGCTGTCGGATCCGTCATGAAACTATCGTCCGAGC...\n",
       " 32342457  GGTCTCTCTATGGCTGTCGGATCCGTCATGAAACTATCGTCCGAGC...\n",
       " 32342461  CATCCTGATATGGCTGTCGGATCCGTTGGGGTGCACGTCCCCTATG...\n",
       " 32342465  GCCCCCCATATTGCTGTCGGATCCGTCATGAAACTATCGTCCGAGC...\n",
       " \n",
       " [8085617 rows x 1 columns],\n",
       "                                                           0\n",
       " 1         GCGAGNCTCACAGCTGTCGGATCCGTAAAAGTGAAGAACGGCGCCC...\n",
       " 5         GAGTGNATCCGGGCTGTCGGATCCGTCATGAAACTATCGTCCGAGC...\n",
       " 9         TGAAANACCACAGCTGTCGGATCCGTCATGAAACTATCGTCCGAGC...\n",
       " 13        CCTGANAAGCCGGCTGTCGGATCCGTCATGAAACTATCGTCCGAGC...\n",
       " 17        CACTANAACAAAGCTGTCGGATCCGTAAAAGTGAAGAACGGCGCCC...\n",
       " ...                                                     ...\n",
       " 33624317  AGATCTACGAGGGCTGTCGGATCCGTCATGAAACTATCGTCCGAGC...\n",
       " 33624321  CGGCCCCGTTCTGCTGTCGGATCCGTCATGAAACTATCGTCCCAGC...\n",
       " 33624325  AACTACTAGCAAGCTGTCGGATCCGTTGGGGTGCACGTCCCCTATG...\n",
       " 33624329  AGTGCGCCACGGGCTGTCGGATCCGTAAAAGTGAAGAACGGCGCCC...\n",
       " 33624333  TCGTCTGTCAGAGCTGTCGGATCCGTTGGGGTGCACGTCCCCTATG...\n",
       " \n",
       " [8406084 rows x 1 columns],\n",
       "                                                           0\n",
       " 1         ACTGTNATTCTCGCTGTCGGATCCGTTGGGGTGCACGTCCCCTATG...\n",
       " 5         CCTTGNCGTTGTGCTGTCGGATCCGTCATGAAACTATCGTCCGCAT...\n",
       " 9         CAGTANTCTTTTGCTGTCGGATCCGTCATGAAACTATCGTCCGAGC...\n",
       " 13        AGACCNCACGTCGCTGTCGGATCCGTCATGAAACTATCGTCCGAGC...\n",
       " 17        GATGTNTATGTGGCTGTCGGATCCGTCATGAAACTATCGTCCGAGC...\n",
       " ...                                                     ...\n",
       " 46297381  ATACGGGCGCATGCTGTCGGATCCGTTGGGGTGCACGTCCCCTATG...\n",
       " 46297385  TGATGTTAACTGGCTGTCGGATCCGTAAAAGTGAAGAACGGCGCCC...\n",
       " 46297389  GACTCCTTGGCGGCTGTCGGATCCGTCATGAAACTATCGTCCGAGC...\n",
       " 46297393  GCGAGGTGCCCAGCTGTCGGATCCGTCATGAAACTATCGTCCGAGC...\n",
       " 46297397  CAGCCGAACATAGCTGTCGGATCCGTCATGAAACTATCGTCCGAGC...\n",
       " \n",
       " [11574350 rows x 1 columns]]"
      ]
     },
     "execution_count": 8,
     "metadata": {},
     "output_type": "execute_result"
    }
   ],
   "source": [
    "gDNA_sequences"
   ]
  },
  {
   "cell_type": "code",
   "execution_count": 9,
   "id": "adb8a747-ca16-4da5-a34e-d46f05ed1ba2",
   "metadata": {},
   "outputs": [
    {
     "name": "stdout",
     "output_type": "stream",
     "text": [
      "Reading mRNA file: mRNA_rep1_21_10cyc_5p3_endoSTARR_4p75_S9_R1_001.fastq.gz ...\n",
      "Finished reading mRNA_rep1_21_10cyc_5p3_endoSTARR_4p75_S9_R1_001.fastq.gz ✅\n",
      "Reading mRNA file: mRNA_rep2_21_10cyc_5p3_endoSTARR_4p75_S10_R1_001.fastq.gz ...\n",
      "Finished reading mRNA_rep2_21_10cyc_5p3_endoSTARR_4p75_S10_R1_001.fastq.gz ✅\n",
      "Reading mRNA file: mRNA_rep3_22_10cyc_5p3_endoSTARR_4p75_S12_R1_001.fastq.gz ...\n",
      "Finished reading mRNA_rep3_22_10cyc_5p3_endoSTARR_4p75_S12_R1_001.fastq.gz ✅\n"
     ]
    }
   ],
   "source": [
    "mRNA_sequences = []\n",
    "for file in files_mRNA:\n",
    "    print(f\"Reading mRNA file: {file} ...\")\n",
    "    mRNA_sequences.append(readin_fastq(data_path, file))\n",
    "    print(f\"Finished reading {file} ✅\")"
   ]
  },
  {
   "cell_type": "code",
   "execution_count": 10,
   "id": "cdeb7d55-a19b-474d-aab2-0b6d85198928",
   "metadata": {},
   "outputs": [
    {
     "data": {
      "text/plain": [
       "[                                                          0\n",
       " 1         GCAACNATAATAGCTGTCGGATCCGTAAAAGTGAAGAACGGCGCCC...\n",
       " 5         TAAGGNACTGTGGCTGTCGGATCCGTTGGGGTGCACGTCCCCTATG...\n",
       " 9         TATATNTTTAAAGCTGTCGGATCCGTTGGGGTGCACGTCCCCTATG...\n",
       " 13        GCAACNATAATAGCTGTCGGATCCGTAAAAGTGAAGAACGGCGCCC...\n",
       " 17        CCCAGNCAGCATGCTGTCGGATCCGTCATGAAACTATCGTCCGAGC...\n",
       " ...                                                     ...\n",
       " 33731997  GCAACAATAATAGCTGTCGGATCCGTAAAAGTGAAGAACGGCGCCC...\n",
       " 33732001  GAGAATAGCTTTGCTGTCGGATCCGTTGGGGTGCACGTCCCCTATG...\n",
       " 33732005  GATGCCCGCCGGGCTGTCGGATCCGTAAAAGCGAAGAACGGCGCCC...\n",
       " 33732009  GATATACCTGTCGCTGTCGGATCCGTCATGAAACTATCGTCCGAGC...\n",
       " 33732013  TGGCTTCTGCATGCTGTCGGATCCGTCATGAAACTATCGTCCGAGC...\n",
       " \n",
       " [8433004 rows x 1 columns],\n",
       "                                                           0\n",
       " 1         GCAACNATAATAGCTGTCGGATCCGTAAAAGTGAAGAACGGCGCCC...\n",
       " 5         ACACTNAACCACGCTGTCGGATCCGTCATGAAACTATCGTCCGAGC...\n",
       " 9         TGCTANAGCTTAGCTGTCGGATCCGTTGGGGTGCACGTCCCCTATG...\n",
       " 13        TGACANGCGCAGGCTGTCGGATCCGTCATGAAACTATCGTCCGAGC...\n",
       " 17        ACCTCNCTCATAGCTGTCGGATCCGTTGGGGTGCACGTCCCCTATG...\n",
       " ...                                                     ...\n",
       " 48857509  AACCTTCCATTAGCTGTCGGATCCGTAAAAGTGAAGAACGGCGCCC...\n",
       " 48857513  TAGTATTCTGCCGCTGTCGGATCCGTCATGAAACTATCGTCCGAGC...\n",
       " 48857517  CACACATGGCTCGCTGTCGGATCCGTCATGAAACTATCGTCCGAGC...\n",
       " 48857521  TGACAACGTAATGCTGTCGGATCCGTCATGAAACTATCGTCCGAGC...\n",
       " 48857525  AACTAACTCGTAGCTGTCGGATCCGTCATGAAACTATCGTCCGAGC...\n",
       " \n",
       " [12214382 rows x 1 columns],\n",
       "                                                           0\n",
       " 1         TGACANGCGCAGGCTGTCGGATCCGTCATGAAACTATCGTCCGAGC...\n",
       " 5         ATAGGNCCCCTGGCTGTCGGATCCGTAAAAGTGAAGAACGGCGCCC...\n",
       " 9         GAGTTNGTATCCGCTGTCGGATCCGTAAAAGTGAAGAACGGCGCCC...\n",
       " 13        AATTCNAGGTTGGCTGTCGGATCCGTCATGAAACTATCGTCCGAGC...\n",
       " 17        GTCTCNCAGGGAGCTGTCGGATCCGTCATGAAACTATCGTCCGAGC...\n",
       " ...                                                     ...\n",
       " 39466505  TGACAAGCGCAGGCTGTCGGATCCGTCATGAAACTATCGTCCGAGC...\n",
       " 39466509  TGGGAAGCAGGTGCTGTCGGATCCGTCATGAAACTATCGTCCGAGC...\n",
       " 39466513  AGGCAGCCCAGGGCTGTCGGATCCGTCATGAAACTATCGTCCGAGC...\n",
       " 39466517  TACCACACGGGCGCTGTCGGATCCGTTGGGGTGCACCATAGGAAAG...\n",
       " 39466521  TCGTCCGGCAACGCTGTCGGATCCGTTGGGGTGCACGTCCCCTATG...\n",
       " \n",
       " [9866631 rows x 1 columns]]"
      ]
     },
     "execution_count": 10,
     "metadata": {},
     "output_type": "execute_result"
    }
   ],
   "source": [
    "mRNA_sequences"
   ]
  },
  {
   "cell_type": "code",
   "execution_count": 11,
   "id": "babca95d-5d39-4b9d-9e11-65d5d11ef0c8",
   "metadata": {},
   "outputs": [
    {
     "data": {
      "text/html": [
       "<div>\n",
       "<style scoped>\n",
       "    .dataframe tbody tr th:only-of-type {\n",
       "        vertical-align: middle;\n",
       "    }\n",
       "\n",
       "    .dataframe tbody tr th {\n",
       "        vertical-align: top;\n",
       "    }\n",
       "\n",
       "    .dataframe thead th {\n",
       "        text-align: right;\n",
       "    }\n",
       "</style>\n",
       "<table border=\"1\" class=\"dataframe\">\n",
       "  <thead>\n",
       "    <tr style=\"text-align: right;\">\n",
       "      <th></th>\n",
       "      <th>0</th>\n",
       "    </tr>\n",
       "  </thead>\n",
       "  <tbody>\n",
       "    <tr>\n",
       "      <th>1</th>\n",
       "      <td>GTGGCNTAACCAGCTGTCGGATCCGTCATGAAACTATCGTCCGAGC...</td>\n",
       "    </tr>\n",
       "    <tr>\n",
       "      <th>5</th>\n",
       "      <td>TCTCTNACATGCGCTGTCGGATCCGTTGGGGTGCACGTCCCCTATG...</td>\n",
       "    </tr>\n",
       "    <tr>\n",
       "      <th>9</th>\n",
       "      <td>CGTTCNGATCAGGCTGTCGGATCCGTTGGGGTGCACGTCCCCTATG...</td>\n",
       "    </tr>\n",
       "    <tr>\n",
       "      <th>13</th>\n",
       "      <td>GTAAANCTGGTCGCTGTCGGATCCGTTGGGGTGCACGTCCCCTATG...</td>\n",
       "    </tr>\n",
       "    <tr>\n",
       "      <th>17</th>\n",
       "      <td>AGGGANCGGCATGCTGTCGGATCCGTAAAAGTGAAGAACGGCGCCC...</td>\n",
       "    </tr>\n",
       "    <tr>\n",
       "      <th>...</th>\n",
       "      <td>...</td>\n",
       "    </tr>\n",
       "    <tr>\n",
       "      <th>32342449</th>\n",
       "      <td>TTCAGGCATTCCGCTGTCGGATCCGTTGGGGTGCACGTCCCCTATG...</td>\n",
       "    </tr>\n",
       "    <tr>\n",
       "      <th>32342453</th>\n",
       "      <td>ATTCGTGCGCCGGCTGTCGGATCCGTCATGAAACTATCGTCCGAGC...</td>\n",
       "    </tr>\n",
       "    <tr>\n",
       "      <th>32342457</th>\n",
       "      <td>GGTCTCTCTATGGCTGTCGGATCCGTCATGAAACTATCGTCCGAGC...</td>\n",
       "    </tr>\n",
       "    <tr>\n",
       "      <th>32342461</th>\n",
       "      <td>CATCCTGATATGGCTGTCGGATCCGTTGGGGTGCACGTCCCCTATG...</td>\n",
       "    </tr>\n",
       "    <tr>\n",
       "      <th>32342465</th>\n",
       "      <td>GCCCCCCATATTGCTGTCGGATCCGTCATGAAACTATCGTCCGAGC...</td>\n",
       "    </tr>\n",
       "  </tbody>\n",
       "</table>\n",
       "<p>8085617 rows × 1 columns</p>\n",
       "</div>"
      ],
      "text/plain": [
       "                                                          0\n",
       "1         GTGGCNTAACCAGCTGTCGGATCCGTCATGAAACTATCGTCCGAGC...\n",
       "5         TCTCTNACATGCGCTGTCGGATCCGTTGGGGTGCACGTCCCCTATG...\n",
       "9         CGTTCNGATCAGGCTGTCGGATCCGTTGGGGTGCACGTCCCCTATG...\n",
       "13        GTAAANCTGGTCGCTGTCGGATCCGTTGGGGTGCACGTCCCCTATG...\n",
       "17        AGGGANCGGCATGCTGTCGGATCCGTAAAAGTGAAGAACGGCGCCC...\n",
       "...                                                     ...\n",
       "32342449  TTCAGGCATTCCGCTGTCGGATCCGTTGGGGTGCACGTCCCCTATG...\n",
       "32342453  ATTCGTGCGCCGGCTGTCGGATCCGTCATGAAACTATCGTCCGAGC...\n",
       "32342457  GGTCTCTCTATGGCTGTCGGATCCGTCATGAAACTATCGTCCGAGC...\n",
       "32342461  CATCCTGATATGGCTGTCGGATCCGTTGGGGTGCACGTCCCCTATG...\n",
       "32342465  GCCCCCCATATTGCTGTCGGATCCGTCATGAAACTATCGTCCGAGC...\n",
       "\n",
       "[8085617 rows x 1 columns]"
      ]
     },
     "execution_count": 11,
     "metadata": {},
     "output_type": "execute_result"
    }
   ],
   "source": [
    "f = pd.read_csv(join(data_path,'gDNA_rep1_19_10cyc_5p3_endoSTARR_4p75_S7_R1_001.fastq.gz'),sep=\"\\t\",header=None)\n",
    "f = f.iloc[range(1,f.shape[0],4),:]\n",
    "f"
   ]
  },
  {
   "cell_type": "code",
   "execution_count": 12,
   "id": "dbb6e8c0-f03c-43c8-b4b6-8c830dc088cc",
   "metadata": {},
   "outputs": [
    {
     "name": "stdout",
     "output_type": "stream",
     "text": [
      "True\n"
     ]
    }
   ],
   "source": [
    "# making sure that each sequence is 75 nucleotides\n",
    "count = 0\n",
    "for seq in f.iloc[:,0]:\n",
    "    if len(seq) == 75:\n",
    "        count += 1\n",
    "\n",
    "print(count == len(f.iloc[:,0]))"
   ]
  },
  {
   "cell_type": "code",
   "execution_count": 63,
   "id": "8042d5ef-4a50-4a13-8352-91336397b217",
   "metadata": {},
   "outputs": [
    {
     "name": "stdout",
     "output_type": "stream",
     "text": [
      "number of sequences with the same flanking sequence:  7935062  | number of sequences with a different flanking sequence:  150555\n"
     ]
    }
   ],
   "source": [
    "# it seems that NOT all sequences have the same right flanking sequence\n",
    "count = 0\n",
    "count2 = 0\n",
    "for seq in f.iloc[:,0]:\n",
    "    if seq[12:26] == 'GCTGTCGGATCCGT':\n",
    "     count += 1\n",
    "    else:\n",
    "     count2 +=1\n",
    "print('number of sequences with the same flanking sequence: ', count, ' | number of sequences with a different flanking sequence: ', count2)"
   ]
  },
  {
   "cell_type": "code",
   "execution_count": 72,
   "id": "31ca288b-13ac-4670-9db4-dac45d90f3cf",
   "metadata": {},
   "outputs": [],
   "source": [
    "def extract_barcode_with_flanks(sequence, start, end, ri_length=14):\n",
    "    barcode = sequence[start:end]\n",
    "    right_flank = sequence[end:end + ri_length]\n",
    "    return barcode, right_flank\n",
    "\n",
    "def process_sequences(sequences, ri, start, end, seq_type='gDNA'):\n",
    "    sequences_dict = {}  # key: barcode, value: list of 3 counts (one per replicate)\n",
    "    \n",
    "    for replicate_num, df in enumerate(sequences):\n",
    "        print(f'Processing replicate {replicate_num + 1}...') # just for visualization\n",
    "        \n",
    "        extracted = df.iloc[:, 0].apply(lambda seq: extract_barcode_with_flanks(seq, start, end))\n",
    "        df_extracted = pd.DataFrame(extracted.tolist(), columns=['BC', 'flank_r']) # a dataframe where rows are sequences, and columns are right-flanking and barcode regions\n",
    "        \n",
    "        # filter sequences that match the given left and right flanks\n",
    "        df_filtered = df_extracted[df_extracted['flank_r'] == ri]\n",
    "        \n",
    "        # count occurrences of each barcode\n",
    "        barcode_counts = Counter(df_filtered['BC'])\n",
    "        \n",
    "        # store counts in the dictionary\n",
    "        for barcode, count in barcode_counts.items():\n",
    "            if barcode not in sequences_dict:\n",
    "                sequences_dict[barcode] = [0] * replicate_num  # initialize with zeros for the past replicates\n",
    "            sequences_dict[barcode] += [0] * (replicate_num + 1 - len(sequences_dict[barcode]))\n",
    "            sequences_dict[barcode][replicate_num] = count  # assign count to each replicate\n",
    "    \n",
    "    for barcode in sequences_dict:\n",
    "     if len(sequences_dict[barcode]) < len(sequences):\n",
    "        sequences_dict[barcode] += [0] * (len(sequences) - len(sequences_dict[barcode]))\n",
    "    # convert dict to dataframe\n",
    "    seq_data = [[seq] + counts for seq, counts in sequences_dict.items()]\n",
    "    seq_columns = ['sequence'] + [f'{seq_type}_rep{i+1}' for i in range(len(sequences))]\n",
    "    seq_df = pd.DataFrame(seq_data, columns=seq_columns)\n",
    "    \n",
    "    print(\"✅ Finished processing!\")\n",
    "    return seq_df"
   ]
  },
  {
   "cell_type": "code",
   "execution_count": 83,
   "id": "4a357879-5242-4afe-b38c-345124f62553",
   "metadata": {},
   "outputs": [
    {
     "data": {
      "text/html": [
       "<div>\n",
       "<style scoped>\n",
       "    .dataframe tbody tr th:only-of-type {\n",
       "        vertical-align: middle;\n",
       "    }\n",
       "\n",
       "    .dataframe tbody tr th {\n",
       "        vertical-align: top;\n",
       "    }\n",
       "\n",
       "    .dataframe thead th {\n",
       "        text-align: right;\n",
       "    }\n",
       "</style>\n",
       "<table border=\"1\" class=\"dataframe\">\n",
       "  <thead>\n",
       "    <tr style=\"text-align: right;\">\n",
       "      <th></th>\n",
       "      <th>sequence</th>\n",
       "      <th>gDNA_rep1</th>\n",
       "      <th>gDNA_rep2</th>\n",
       "      <th>gDNA_rep3</th>\n",
       "    </tr>\n",
       "  </thead>\n",
       "  <tbody>\n",
       "    <tr>\n",
       "      <th>0</th>\n",
       "      <td>GTGGCNTAACCA</td>\n",
       "      <td>1</td>\n",
       "      <td>0</td>\n",
       "      <td>0</td>\n",
       "    </tr>\n",
       "    <tr>\n",
       "      <th>1</th>\n",
       "      <td>TCTCTNACATGC</td>\n",
       "      <td>1</td>\n",
       "      <td>0</td>\n",
       "      <td>0</td>\n",
       "    </tr>\n",
       "    <tr>\n",
       "      <th>2</th>\n",
       "      <td>CGTTCNGATCAG</td>\n",
       "      <td>1</td>\n",
       "      <td>0</td>\n",
       "      <td>0</td>\n",
       "    </tr>\n",
       "    <tr>\n",
       "      <th>3</th>\n",
       "      <td>GTAAANCTGGTC</td>\n",
       "      <td>1</td>\n",
       "      <td>0</td>\n",
       "      <td>0</td>\n",
       "    </tr>\n",
       "    <tr>\n",
       "      <th>4</th>\n",
       "      <td>AGGGANCGGCAT</td>\n",
       "      <td>2</td>\n",
       "      <td>0</td>\n",
       "      <td>0</td>\n",
       "    </tr>\n",
       "    <tr>\n",
       "      <th>...</th>\n",
       "      <td>...</td>\n",
       "      <td>...</td>\n",
       "      <td>...</td>\n",
       "      <td>...</td>\n",
       "    </tr>\n",
       "    <tr>\n",
       "      <th>378319</th>\n",
       "      <td>CAAACCACGGAC</td>\n",
       "      <td>0</td>\n",
       "      <td>0</td>\n",
       "      <td>1</td>\n",
       "    </tr>\n",
       "    <tr>\n",
       "      <th>378320</th>\n",
       "      <td>AGACGCTATCAG</td>\n",
       "      <td>0</td>\n",
       "      <td>0</td>\n",
       "      <td>1</td>\n",
       "    </tr>\n",
       "    <tr>\n",
       "      <th>378321</th>\n",
       "      <td>CATAGCAAGAGC</td>\n",
       "      <td>0</td>\n",
       "      <td>0</td>\n",
       "      <td>1</td>\n",
       "    </tr>\n",
       "    <tr>\n",
       "      <th>378322</th>\n",
       "      <td>TGGCCGGGAAGC</td>\n",
       "      <td>0</td>\n",
       "      <td>0</td>\n",
       "      <td>1</td>\n",
       "    </tr>\n",
       "    <tr>\n",
       "      <th>378323</th>\n",
       "      <td>TAGAAATCCCTC</td>\n",
       "      <td>0</td>\n",
       "      <td>0</td>\n",
       "      <td>1</td>\n",
       "    </tr>\n",
       "  </tbody>\n",
       "</table>\n",
       "<p>378324 rows × 4 columns</p>\n",
       "</div>"
      ],
      "text/plain": [
       "            sequence  gDNA_rep1  gDNA_rep2  gDNA_rep3\n",
       "0       GTGGCNTAACCA          1          0          0\n",
       "1       TCTCTNACATGC          1          0          0\n",
       "2       CGTTCNGATCAG          1          0          0\n",
       "3       GTAAANCTGGTC          1          0          0\n",
       "4       AGGGANCGGCAT          2          0          0\n",
       "...              ...        ...        ...        ...\n",
       "378319  CAAACCACGGAC          0          0          1\n",
       "378320  AGACGCTATCAG          0          0          1\n",
       "378321  CATAGCAAGAGC          0          0          1\n",
       "378322  TGGCCGGGAAGC          0          0          1\n",
       "378323  TAGAAATCCCTC          0          0          1\n",
       "\n",
       "[378324 rows x 4 columns]"
      ]
     },
     "execution_count": 83,
     "metadata": {},
     "output_type": "execute_result"
    }
   ],
   "source": [
    "gDNA_df = process_sequences(gDNA_sequences, ri='GCTGTCGGATCCGT', start=0, end=12, seq_type='gDNA')\n",
    "gDNA_df"
   ]
  },
  {
   "cell_type": "code",
   "execution_count": 84,
   "id": "ac2801c9-c2c5-41b6-8d65-991dad2fb970",
   "metadata": {},
   "outputs": [],
   "source": [
    "gDNA_df.to_csv('barcode_gDNA_counts_dataset2.tsv', sep='\\t', index=False)"
   ]
  },
  {
   "cell_type": "code",
   "execution_count": 85,
   "id": "2f240b9d-f6ec-4ce0-bfdc-a00eb6ecc650",
   "metadata": {},
   "outputs": [
    {
     "name": "stdout",
     "output_type": "stream",
     "text": [
      "Processing replicate 1...\n",
      "Processing replicate 2...\n",
      "Processing replicate 3...\n",
      "✅ Finished processing!\n"
     ]
    },
    {
     "data": {
      "text/html": [
       "<div>\n",
       "<style scoped>\n",
       "    .dataframe tbody tr th:only-of-type {\n",
       "        vertical-align: middle;\n",
       "    }\n",
       "\n",
       "    .dataframe tbody tr th {\n",
       "        vertical-align: top;\n",
       "    }\n",
       "\n",
       "    .dataframe thead th {\n",
       "        text-align: right;\n",
       "    }\n",
       "</style>\n",
       "<table border=\"1\" class=\"dataframe\">\n",
       "  <thead>\n",
       "    <tr style=\"text-align: right;\">\n",
       "      <th></th>\n",
       "      <th>sequence</th>\n",
       "      <th>mRNA_rep1</th>\n",
       "      <th>mRNA_rep2</th>\n",
       "      <th>mRNA_rep3</th>\n",
       "    </tr>\n",
       "  </thead>\n",
       "  <tbody>\n",
       "    <tr>\n",
       "      <th>0</th>\n",
       "      <td>GCAACNATAATA</td>\n",
       "      <td>770</td>\n",
       "      <td>1403</td>\n",
       "      <td>631</td>\n",
       "    </tr>\n",
       "    <tr>\n",
       "      <th>1</th>\n",
       "      <td>TAAGGNACTGTG</td>\n",
       "      <td>19</td>\n",
       "      <td>26</td>\n",
       "      <td>8</td>\n",
       "    </tr>\n",
       "    <tr>\n",
       "      <th>2</th>\n",
       "      <td>TATATNTTTAAA</td>\n",
       "      <td>3</td>\n",
       "      <td>0</td>\n",
       "      <td>0</td>\n",
       "    </tr>\n",
       "    <tr>\n",
       "      <th>3</th>\n",
       "      <td>CCCAGNCAGCAT</td>\n",
       "      <td>8</td>\n",
       "      <td>12</td>\n",
       "      <td>5</td>\n",
       "    </tr>\n",
       "    <tr>\n",
       "      <th>4</th>\n",
       "      <td>CACGCNAAGTAA</td>\n",
       "      <td>1</td>\n",
       "      <td>0</td>\n",
       "      <td>1</td>\n",
       "    </tr>\n",
       "    <tr>\n",
       "      <th>...</th>\n",
       "      <td>...</td>\n",
       "      <td>...</td>\n",
       "      <td>...</td>\n",
       "      <td>...</td>\n",
       "    </tr>\n",
       "    <tr>\n",
       "      <th>205857</th>\n",
       "      <td>TTACAATCTAAG</td>\n",
       "      <td>0</td>\n",
       "      <td>0</td>\n",
       "      <td>1</td>\n",
       "    </tr>\n",
       "    <tr>\n",
       "      <th>205858</th>\n",
       "      <td>CGCTCGCGGAGT</td>\n",
       "      <td>0</td>\n",
       "      <td>0</td>\n",
       "      <td>1</td>\n",
       "    </tr>\n",
       "    <tr>\n",
       "      <th>205859</th>\n",
       "      <td>ACTTTATTCACG</td>\n",
       "      <td>0</td>\n",
       "      <td>0</td>\n",
       "      <td>1</td>\n",
       "    </tr>\n",
       "    <tr>\n",
       "      <th>205860</th>\n",
       "      <td>TCTAGTACCTTC</td>\n",
       "      <td>0</td>\n",
       "      <td>0</td>\n",
       "      <td>1</td>\n",
       "    </tr>\n",
       "    <tr>\n",
       "      <th>205861</th>\n",
       "      <td>AATATGCTAAAC</td>\n",
       "      <td>0</td>\n",
       "      <td>0</td>\n",
       "      <td>1</td>\n",
       "    </tr>\n",
       "  </tbody>\n",
       "</table>\n",
       "<p>205862 rows × 4 columns</p>\n",
       "</div>"
      ],
      "text/plain": [
       "            sequence  mRNA_rep1  mRNA_rep2  mRNA_rep3\n",
       "0       GCAACNATAATA        770       1403        631\n",
       "1       TAAGGNACTGTG         19         26          8\n",
       "2       TATATNTTTAAA          3          0          0\n",
       "3       CCCAGNCAGCAT          8         12          5\n",
       "4       CACGCNAAGTAA          1          0          1\n",
       "...              ...        ...        ...        ...\n",
       "205857  TTACAATCTAAG          0          0          1\n",
       "205858  CGCTCGCGGAGT          0          0          1\n",
       "205859  ACTTTATTCACG          0          0          1\n",
       "205860  TCTAGTACCTTC          0          0          1\n",
       "205861  AATATGCTAAAC          0          0          1\n",
       "\n",
       "[205862 rows x 4 columns]"
      ]
     },
     "execution_count": 85,
     "metadata": {},
     "output_type": "execute_result"
    }
   ],
   "source": [
    "mRNA_df = process_sequences(mRNA_sequences, ri='GCTGTCGGATCCGT', start=0, end=12, seq_type='mRNA')\n",
    "mRNA_df"
   ]
  },
  {
   "cell_type": "code",
   "execution_count": 86,
   "id": "34aa7751-eccd-4a41-8ec1-e53bf6b5db12",
   "metadata": {},
   "outputs": [],
   "source": [
    "mRNA_df.to_csv('barcode_mRNA_counts_dataset2.tsv', sep='\\t', index=False)"
   ]
  }
 ],
 "metadata": {
  "kernelspec": {
   "display_name": "base ENV",
   "language": "python",
   "name": "baseenv"
  },
  "language_info": {
   "codemirror_mode": {
    "name": "ipython",
    "version": 3
   },
   "file_extension": ".py",
   "mimetype": "text/x-python",
   "name": "python",
   "nbconvert_exporter": "python",
   "pygments_lexer": "ipython3",
   "version": "3.13.1"
  }
 },
 "nbformat": 4,
 "nbformat_minor": 5
}
